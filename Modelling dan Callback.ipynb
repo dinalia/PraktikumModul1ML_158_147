{
  "nbformat": 4,
  "nbformat_minor": 0,
  "metadata": {
    "accelerator": "GPU",
    "colab": {
      "name": "Tugbes.ipynb",
      "provenance": [],
      "collapsed_sections": [
        "izGSCs4LnGI6",
        "6mYhJO1-HB_u",
        "sJRp7MvMLX5e"
      ]
    },
    "kernelspec": {
      "display_name": "Python 3",
      "name": "python3"
    },
    "language_info": {
      "name": "python"
    }
  },
  "cells": [
    {
      "cell_type": "markdown",
      "metadata": {
        "id": "sJRp7MvMLX5e"
      },
      "source": [
        "# Modelling"
      ]
    },
    {
      "cell_type": "code",
      "metadata": {
        "colab": {
          "base_uri": "https://localhost:8080/"
        },
        "id": "NPbj8zzUOuBo",
        "outputId": "5fa519a8-1799-4800-8cdd-6abd7a4fbe1b"
      },
      "source": [
        "# TULIS KODE ANDA DISINI\n",
        "# Feature Extraction Layer\n",
        "model = Sequential()\n",
        "\n",
        "model.add(InputLayer(input_shape=[250,250,3]))\n",
        "model.add(Conv2D(filters=16, kernel_size=3, strides=1, padding='same', activation='relu'))\n",
        "model.add(BatchNormalization())\n",
        "model.add(MaxPool2D(pool_size=2, padding='same'))\n",
        "model.add(Conv2D(filters=32, kernel_size=3, strides=1, padding='same', activation='relu'))\n",
        "model.add(BatchNormalization())\n",
        "model.add(MaxPool2D(pool_size=2, padding='same'))\n",
        "model.add(Conv2D(filters=64, kernel_size=3, strides=1, padding='same', activation='relu'))\n",
        "model.add(BatchNormalization())\n",
        "model.add(MaxPool2D(pool_size=2, padding='same'))\n",
        "model.add(Conv2D(filters=128, kernel_size=3, strides=1, padding='same', activation='relu'))\n",
        "model.add(BatchNormalization())\n",
        "model.add(MaxPool2D(pool_size=2, padding='same'))\n",
        "model.add(Dropout(0.25))\n",
        "model.add(Flatten())\n",
        "\n",
        "# Fully Connected Layer\n",
        "model.add(Dense(512, activation='relu'))\n",
        "model.add(Dropout(0.25))\n",
        "model.add(Dense(9, activation='softmax'))\n",
        "\n",
        "# Print model summary\n",
        "print(model.summary())"
      ],
      "execution_count": null,
      "outputs": [
        {
          "output_type": "stream",
          "name": "stdout",
          "text": [
            "Model: \"sequential_1\"\n",
            "_________________________________________________________________\n",
            "Layer (type)                 Output Shape              Param #   \n",
            "=================================================================\n",
            "conv2d_4 (Conv2D)            (None, 250, 250, 16)      448       \n",
            "_________________________________________________________________\n",
            "batch_normalization_4 (Batch (None, 250, 250, 16)      64        \n",
            "_________________________________________________________________\n",
            "max_pooling2d_4 (MaxPooling2 (None, 125, 125, 16)      0         \n",
            "_________________________________________________________________\n",
            "conv2d_5 (Conv2D)            (None, 125, 125, 32)      4640      \n",
            "_________________________________________________________________\n",
            "batch_normalization_5 (Batch (None, 125, 125, 32)      128       \n",
            "_________________________________________________________________\n",
            "max_pooling2d_5 (MaxPooling2 (None, 63, 63, 32)        0         \n",
            "_________________________________________________________________\n",
            "conv2d_6 (Conv2D)            (None, 63, 63, 64)        18496     \n",
            "_________________________________________________________________\n",
            "batch_normalization_6 (Batch (None, 63, 63, 64)        256       \n",
            "_________________________________________________________________\n",
            "max_pooling2d_6 (MaxPooling2 (None, 32, 32, 64)        0         \n",
            "_________________________________________________________________\n",
            "conv2d_7 (Conv2D)            (None, 32, 32, 128)       73856     \n",
            "_________________________________________________________________\n",
            "batch_normalization_7 (Batch (None, 32, 32, 128)       512       \n",
            "_________________________________________________________________\n",
            "max_pooling2d_7 (MaxPooling2 (None, 16, 16, 128)       0         \n",
            "_________________________________________________________________\n",
            "dropout_2 (Dropout)          (None, 16, 16, 128)       0         \n",
            "_________________________________________________________________\n",
            "flatten_1 (Flatten)          (None, 32768)             0         \n",
            "_________________________________________________________________\n",
            "dense_2 (Dense)              (None, 512)               16777728  \n",
            "_________________________________________________________________\n",
            "dropout_3 (Dropout)          (None, 512)               0         \n",
            "_________________________________________________________________\n",
            "dense_3 (Dense)              (None, 9)                 4617      \n",
            "=================================================================\n",
            "Total params: 16,880,745\n",
            "Trainable params: 16,880,265\n",
            "Non-trainable params: 480\n",
            "_________________________________________________________________\n",
            "None\n"
          ]
        }
      ]
    },
    {
      "cell_type": "code",
      "metadata": {
        "id": "uJLIwVC6NG_Z"
      },
      "source": [
        "model.compile(optimizer=Adam(learning_rate=0.001), \n",
        "              loss='categorical_crossentropy', \n",
        "              metrics=['acc'])"
      ],
      "execution_count": null,
      "outputs": []
    },
    {
      "cell_type": "code",
      "metadata": {
        "id": "F2IA45vF__tW"
      },
      "source": [
        "model.save('model.h5')"
      ],
      "execution_count": null,
      "outputs": []
    },
    {
      "cell_type": "code",
      "metadata": {
        "id": "rKlpC3Cl_8pT"
      },
      "source": [
        "from tensorflow.keras.callbacks import EarlyStopping, ModelCheckpoint, ReduceLROnPlateau\n",
        "\n",
        "earlystopping = EarlyStopping(monitor=\"val_loss\", mode=\"min\", verbose=1, patience=20)\n",
        "reduce_lr = ReduceLROnPlateau(\n",
        "    monitor=\"val_loss\", mode=\"min\", verbose=1, patience=10, min_delta=0.0001, factor=0.2)"
      ],
      "execution_count": null,
      "outputs": []
    },
    {
      "cell_type": "code",
      "metadata": {
        "colab": {
          "base_uri": "https://localhost:8080/"
        },
        "id": "__Ngh1gtNJV6",
        "outputId": "5ccc0471-8f0b-4eff-e25f-6ffd56904a3c"
      },
      "source": [
        "H = model.fit_generator(\n",
        "    train_generator, \n",
        "    epochs=100, \n",
        "    validation_data= validation_generator,\n",
        "    callbacks=[earlystopping, reduce_lr]\n",
        "    )"
      ],
      "execution_count": null,
      "outputs": [
        {
          "output_type": "stream",
          "name": "stderr",
          "text": [
            "/usr/local/lib/python3.7/dist-packages/keras/engine/training.py:1972: UserWarning: `Model.fit_generator` is deprecated and will be removed in a future version. Please use `Model.fit`, which supports generators.\n",
            "  warnings.warn('`Model.fit_generator` is deprecated and '\n"
          ]
        },
        {
          "output_type": "stream",
          "name": "stdout",
          "text": [
            "Epoch 1/100\n",
            "20/20 [==============================] - 63s 3s/step - loss: 1.6450 - acc: 0.4992 - val_loss: 12.0318 - val_acc: 0.1755\n",
            "Epoch 2/100\n",
            "20/20 [==============================] - 63s 3s/step - loss: 1.5026 - acc: 0.5072 - val_loss: 9.9977 - val_acc: 0.1707\n",
            "Epoch 3/100\n",
            "20/20 [==============================] - 63s 3s/step - loss: 1.4419 - acc: 0.5279 - val_loss: 9.2302 - val_acc: 0.1947\n",
            "Epoch 4/100\n",
            "20/20 [==============================] - 63s 3s/step - loss: 1.3601 - acc: 0.5566 - val_loss: 10.1651 - val_acc: 0.1923\n",
            "Epoch 5/100\n",
            "20/20 [==============================] - 63s 3s/step - loss: 1.3151 - acc: 0.5710 - val_loss: 13.9349 - val_acc: 0.1394\n",
            "Epoch 6/100\n",
            "20/20 [==============================] - 64s 3s/step - loss: 1.2180 - acc: 0.5933 - val_loss: 8.1126 - val_acc: 0.1971\n",
            "Epoch 7/100\n",
            "20/20 [==============================] - 63s 3s/step - loss: 1.0629 - acc: 0.6300 - val_loss: 7.9168 - val_acc: 0.2524\n",
            "Epoch 8/100\n",
            "20/20 [==============================] - 63s 3s/step - loss: 0.9774 - acc: 0.6667 - val_loss: 6.7141 - val_acc: 0.1899\n",
            "Epoch 9/100\n",
            "20/20 [==============================] - 63s 3s/step - loss: 0.9587 - acc: 0.6746 - val_loss: 8.2832 - val_acc: 0.2091\n",
            "Epoch 10/100\n",
            "20/20 [==============================] - 65s 3s/step - loss: 0.9683 - acc: 0.6922 - val_loss: 7.2843 - val_acc: 0.2428\n",
            "Epoch 11/100\n",
            "20/20 [==============================] - 65s 3s/step - loss: 0.9037 - acc: 0.6906 - val_loss: 7.9724 - val_acc: 0.2067\n",
            "Epoch 12/100\n",
            "20/20 [==============================] - 63s 3s/step - loss: 0.8622 - acc: 0.7432 - val_loss: 7.5044 - val_acc: 0.2524\n",
            "Epoch 13/100\n",
            "20/20 [==============================] - 63s 3s/step - loss: 0.8585 - acc: 0.7257 - val_loss: 4.0450 - val_acc: 0.3606\n",
            "Epoch 14/100\n",
            "20/20 [==============================] - 63s 3s/step - loss: 0.7673 - acc: 0.7321 - val_loss: 3.8726 - val_acc: 0.3317\n",
            "Epoch 15/100\n",
            "20/20 [==============================] - 63s 3s/step - loss: 0.6555 - acc: 0.7783 - val_loss: 3.0345 - val_acc: 0.4591\n",
            "Epoch 16/100\n",
            "20/20 [==============================] - 64s 3s/step - loss: 0.6522 - acc: 0.7863 - val_loss: 3.2865 - val_acc: 0.4183\n",
            "Epoch 17/100\n",
            "20/20 [==============================] - 65s 3s/step - loss: 0.6132 - acc: 0.7959 - val_loss: 2.7213 - val_acc: 0.4880\n",
            "Epoch 18/100\n",
            "20/20 [==============================] - 64s 3s/step - loss: 0.6549 - acc: 0.7959 - val_loss: 1.9044 - val_acc: 0.5865\n",
            "Epoch 19/100\n",
            "20/20 [==============================] - 64s 3s/step - loss: 0.5144 - acc: 0.8357 - val_loss: 1.2546 - val_acc: 0.6827\n",
            "Epoch 20/100\n",
            "20/20 [==============================] - 63s 3s/step - loss: 0.5742 - acc: 0.8150 - val_loss: 0.7488 - val_acc: 0.7692\n",
            "Epoch 21/100\n",
            "20/20 [==============================] - 64s 3s/step - loss: 0.6274 - acc: 0.8086 - val_loss: 1.0815 - val_acc: 0.7284\n",
            "Epoch 22/100\n",
            "20/20 [==============================] - 65s 3s/step - loss: 0.5642 - acc: 0.8102 - val_loss: 0.6811 - val_acc: 0.7716\n",
            "Epoch 23/100\n",
            "20/20 [==============================] - 66s 3s/step - loss: 0.5042 - acc: 0.8341 - val_loss: 0.4722 - val_acc: 0.8197\n",
            "Epoch 24/100\n",
            "20/20 [==============================] - 65s 3s/step - loss: 0.6104 - acc: 0.8118 - val_loss: 1.2790 - val_acc: 0.7067\n",
            "Epoch 25/100\n",
            "20/20 [==============================] - 65s 3s/step - loss: 0.5623 - acc: 0.8293 - val_loss: 0.9411 - val_acc: 0.7356\n",
            "Epoch 26/100\n",
            "20/20 [==============================] - 65s 3s/step - loss: 0.4520 - acc: 0.8565 - val_loss: 0.2650 - val_acc: 0.9231\n",
            "Epoch 28/100\n",
            "20/20 [==============================] - 65s 3s/step - loss: 0.4354 - acc: 0.8596 - val_loss: 0.2631 - val_acc: 0.9159\n",
            "Epoch 29/100\n",
            "20/20 [==============================] - 65s 3s/step - loss: 0.4466 - acc: 0.8501 - val_loss: 0.2960 - val_acc: 0.9087\n",
            "Epoch 30/100\n",
            "20/20 [==============================] - 66s 3s/step - loss: 0.4659 - acc: 0.8581 - val_loss: 0.1546 - val_acc: 0.9447\n",
            "Epoch 31/100\n",
            "20/20 [==============================] - 65s 3s/step - loss: 0.3912 - acc: 0.8804 - val_loss: 0.1292 - val_acc: 0.9591\n",
            "Epoch 32/100\n",
            "20/20 [==============================] - 65s 3s/step - loss: 0.4012 - acc: 0.8788 - val_loss: 0.3497 - val_acc: 0.8966\n",
            "Epoch 33/100\n",
            "20/20 [==============================] - 66s 3s/step - loss: 0.4780 - acc: 0.8389 - val_loss: 0.2655 - val_acc: 0.9183\n",
            "Epoch 34/100\n",
            "20/20 [==============================] - 66s 3s/step - loss: 0.4173 - acc: 0.8453 - val_loss: 0.1309 - val_acc: 0.9688\n",
            "Epoch 35/100\n",
            "20/20 [==============================] - 66s 3s/step - loss: 0.3680 - acc: 0.8852 - val_loss: 0.1224 - val_acc: 0.9591\n",
            "Epoch 36/100\n",
            "20/20 [==============================] - 66s 3s/step - loss: 0.3432 - acc: 0.8931 - val_loss: 0.1655 - val_acc: 0.9423\n",
            "Epoch 37/100\n",
            "20/20 [==============================] - 66s 3s/step - loss: 0.2898 - acc: 0.9011 - val_loss: 0.4447 - val_acc: 0.8822\n",
            "Epoch 38/100\n",
            "20/20 [==============================] - 65s 3s/step - loss: 0.3487 - acc: 0.8772 - val_loss: 0.7351 - val_acc: 0.8365\n",
            "Epoch 39/100\n",
            "20/20 [==============================] - 66s 3s/step - loss: 0.4532 - acc: 0.8596 - val_loss: 0.1708 - val_acc: 0.9519\n",
            "Epoch 40/100\n",
            "20/20 [==============================] - 66s 3s/step - loss: 0.2917 - acc: 0.9155 - val_loss: 0.1358 - val_acc: 0.9567\n",
            "Epoch 41/100\n",
            "20/20 [==============================] - 66s 3s/step - loss: 0.3274 - acc: 0.9027 - val_loss: 0.0973 - val_acc: 0.9663\n",
            "Epoch 42/100\n",
            "20/20 [==============================] - 66s 3s/step - loss: 0.3194 - acc: 0.8995 - val_loss: 0.1411 - val_acc: 0.9519\n",
            "Epoch 43/100\n",
            "20/20 [==============================] - 66s 3s/step - loss: 0.3594 - acc: 0.8900 - val_loss: 0.1127 - val_acc: 0.9639\n",
            "Epoch 44/100\n",
            "20/20 [==============================] - 66s 3s/step - loss: 0.3441 - acc: 0.8963 - val_loss: 0.1191 - val_acc: 0.9615\n",
            "Epoch 45/100\n",
            "20/20 [==============================] - 65s 3s/step - loss: 0.3464 - acc: 0.9011 - val_loss: 0.6415 - val_acc: 0.7861\n",
            "Epoch 46/100\n",
            "20/20 [==============================] - 65s 3s/step - loss: 0.3960 - acc: 0.9011 - val_loss: 0.2857 - val_acc: 0.9255\n",
            "Epoch 47/100\n",
            "20/20 [==============================] - 65s 3s/step - loss: 0.3019 - acc: 0.9027 - val_loss: 0.0940 - val_acc: 0.9784\n",
            "Epoch 48/100\n",
            "20/20 [==============================] - 65s 3s/step - loss: 0.3245 - acc: 0.9123 - val_loss: 0.1901 - val_acc: 0.9519\n",
            "Epoch 49/100\n",
            "20/20 [==============================] - 65s 3s/step - loss: 0.3831 - acc: 0.8852 - val_loss: 0.1932 - val_acc: 0.9375\n",
            "Epoch 50/100\n",
            "20/20 [==============================] - 65s 3s/step - loss: 0.2268 - acc: 0.9075 - val_loss: 0.0988 - val_acc: 0.9567\n",
            "Epoch 51/100\n",
            "20/20 [==============================] - 64s 3s/step - loss: 0.2068 - acc: 0.9298 - val_loss: 0.5357 - val_acc: 0.8630\n",
            "Epoch 52/100\n",
            "20/20 [==============================] - 65s 3s/step - loss: 0.2199 - acc: 0.9266 - val_loss: 0.0495 - val_acc: 0.9856\n",
            "Epoch 53/100\n",
            "20/20 [==============================] - 64s 3s/step - loss: 0.1926 - acc: 0.9458 - val_loss: 0.0386 - val_acc: 0.9880\n",
            "Epoch 54/100\n",
            "20/20 [==============================] - 65s 3s/step - loss: 0.1591 - acc: 0.9394 - val_loss: 0.0361 - val_acc: 0.9928\n",
            "Epoch 55/100\n",
            "20/20 [==============================] - 65s 3s/step - loss: 0.1747 - acc: 0.9362 - val_loss: 0.0444 - val_acc: 0.9856\n",
            "Epoch 56/100\n",
            "20/20 [==============================] - 65s 3s/step - loss: 0.2022 - acc: 0.9394 - val_loss: 0.0731 - val_acc: 0.9784\n",
            "Epoch 57/100\n",
            "20/20 [==============================] - 66s 3s/step - loss: 0.2209 - acc: 0.9250 - val_loss: 0.1207 - val_acc: 0.9615\n",
            "Epoch 58/100\n",
            "20/20 [==============================] - 66s 3s/step - loss: 0.1893 - acc: 0.9266 - val_loss: 0.5295 - val_acc: 0.8510\n",
            "Epoch 59/100\n",
            "20/20 [==============================] - 66s 3s/step - loss: 0.2125 - acc: 0.9378 - val_loss: 0.2231 - val_acc: 0.9399\n",
            "Epoch 60/100\n",
            "20/20 [==============================] - 66s 3s/step - loss: 0.2061 - acc: 0.9282 - val_loss: 0.1008 - val_acc: 0.9663\n",
            "Epoch 61/100\n",
            "20/20 [==============================] - 66s 3s/step - loss: 0.2194 - acc: 0.9314 - val_loss: 0.4431 - val_acc: 0.8750\n",
            "Epoch 62/100\n",
            "20/20 [==============================] - 66s 3s/step - loss: 0.1915 - acc: 0.9378 - val_loss: 0.2223 - val_acc: 0.9255\n",
            "Epoch 63/100\n",
            "20/20 [==============================] - 66s 3s/step - loss: 0.2567 - acc: 0.9250 - val_loss: 0.4669 - val_acc: 0.8678\n",
            "Epoch 64/100\n",
            "20/20 [==============================] - 66s 3s/step - loss: 0.2375 - acc: 0.9250 - val_loss: 0.0815 - val_acc: 0.9688\n",
            "\n",
            "Epoch 00064: ReduceLROnPlateau reducing learning rate to 0.00020000000949949026.\n",
            "Epoch 65/100\n",
            "20/20 [==============================] - 66s 3s/step - loss: 0.1839 - acc: 0.9410 - val_loss: 0.0581 - val_acc: 0.9736\n",
            "Epoch 66/100\n",
            "20/20 [==============================] - 67s 3s/step - loss: 0.1782 - acc: 0.9346 - val_loss: 0.0337 - val_acc: 0.9856\n",
            "Epoch 67/100\n",
            "20/20 [==============================] - 66s 3s/step - loss: 0.1136 - acc: 0.9649 - val_loss: 0.0175 - val_acc: 0.9976\n",
            "Epoch 68/100\n",
            "20/20 [==============================] - 66s 3s/step - loss: 0.0883 - acc: 0.9713 - val_loss: 0.0180 - val_acc: 0.9952\n",
            "Epoch 69/100\n",
            "20/20 [==============================] - 67s 3s/step - loss: 0.1093 - acc: 0.9633 - val_loss: 0.0089 - val_acc: 0.9976\n",
            "Epoch 70/100\n",
            "20/20 [==============================] - 66s 3s/step - loss: 0.1449 - acc: 0.9506 - val_loss: 0.0199 - val_acc: 0.9928\n",
            "Epoch 71/100\n",
            "20/20 [==============================] - 66s 3s/step - loss: 0.0728 - acc: 0.9745 - val_loss: 0.0183 - val_acc: 0.9904\n",
            "Epoch 72/100\n",
            "20/20 [==============================] - 65s 3s/step - loss: 0.0670 - acc: 0.9745 - val_loss: 0.0151 - val_acc: 0.9976\n",
            "Epoch 73/100\n",
            "20/20 [==============================] - 66s 3s/step - loss: 0.0833 - acc: 0.9729 - val_loss: 0.0205 - val_acc: 0.9904\n",
            "Epoch 74/100\n",
            "20/20 [==============================] - 66s 3s/step - loss: 0.0898 - acc: 0.9713 - val_loss: 0.0214 - val_acc: 0.9904\n",
            "Epoch 75/100\n",
            "20/20 [==============================] - 67s 3s/step - loss: 0.0755 - acc: 0.9793 - val_loss: 0.0120 - val_acc: 0.9952\n",
            "Epoch 76/100\n",
            "20/20 [==============================] - 67s 3s/step - loss: 0.0586 - acc: 0.9745 - val_loss: 0.0124 - val_acc: 0.9928\n",
            "Epoch 77/100\n",
            "20/20 [==============================] - 66s 3s/step - loss: 0.0762 - acc: 0.9729 - val_loss: 0.0125 - val_acc: 0.9952\n",
            "Epoch 78/100\n",
            "20/20 [==============================] - 66s 3s/step - loss: 0.0766 - acc: 0.9745 - val_loss: 0.0089 - val_acc: 0.9952\n",
            "Epoch 79/100\n",
            "20/20 [==============================] - 66s 3s/step - loss: 0.0571 - acc: 0.9761 - val_loss: 0.0066 - val_acc: 1.0000\n",
            "Epoch 80/100\n",
            "20/20 [==============================] - 64s 3s/step - loss: 0.0802 - acc: 0.9713 - val_loss: 0.0105 - val_acc: 0.9952\n",
            "Epoch 81/100\n",
            "20/20 [==============================] - 65s 3s/step - loss: 0.0738 - acc: 0.9729 - val_loss: 0.0072 - val_acc: 0.9976\n",
            "Epoch 82/100\n",
            "20/20 [==============================] - 65s 3s/step - loss: 0.0648 - acc: 0.9761 - val_loss: 0.0102 - val_acc: 0.9952\n",
            "Epoch 83/100\n",
            "20/20 [==============================] - 65s 3s/step - loss: 0.0546 - acc: 0.9825 - val_loss: 0.0084 - val_acc: 0.9952\n",
            "Epoch 84/100\n",
            "20/20 [==============================] - 67s 3s/step - loss: 0.0520 - acc: 0.9809 - val_loss: 0.0058 - val_acc: 0.9976\n",
            "Epoch 85/100\n",
            "20/20 [==============================] - 66s 3s/step - loss: 0.0564 - acc: 0.9856 - val_loss: 0.0064 - val_acc: 0.9976\n",
            "Epoch 86/100\n",
            "20/20 [==============================] - 66s 3s/step - loss: 0.0631 - acc: 0.9761 - val_loss: 0.0075 - val_acc: 0.9976\n",
            "Epoch 87/100\n",
            "20/20 [==============================] - 66s 3s/step - loss: 0.0533 - acc: 0.9745 - val_loss: 0.0075 - val_acc: 0.9976\n",
            "Epoch 88/100\n",
            "20/20 [==============================] - 66s 3s/step - loss: 0.0563 - acc: 0.9777 - val_loss: 0.0079 - val_acc: 0.9952\n",
            "Epoch 89/100\n",
            "20/20 [==============================] - 66s 3s/step - loss: 0.0624 - acc: 0.9729 - val_loss: 0.0068 - val_acc: 0.9976\n",
            "Epoch 90/100\n",
            "20/20 [==============================] - 66s 3s/step - loss: 0.0522 - acc: 0.9825 - val_loss: 0.0052 - val_acc: 1.0000\n",
            "Epoch 91/100\n",
            "20/20 [==============================] - 66s 3s/step - loss: 0.0574 - acc: 0.9809 - val_loss: 0.0049 - val_acc: 1.0000\n",
            "Epoch 92/100\n",
            "20/20 [==============================] - 66s 3s/step - loss: 0.0409 - acc: 0.9872 - val_loss: 0.0063 - val_acc: 0.9952\n",
            "Epoch 93/100\n",
            "20/20 [==============================] - 66s 3s/step - loss: 0.0603 - acc: 0.9777 - val_loss: 0.0113 - val_acc: 0.9976\n",
            "Epoch 94/100\n",
            "20/20 [==============================] - 66s 3s/step - loss: 0.0530 - acc: 0.9793 - val_loss: 0.0055 - val_acc: 0.9952\n",
            "Epoch 95/100\n",
            "20/20 [==============================] - 66s 3s/step - loss: 0.0495 - acc: 0.9825 - val_loss: 0.0045 - val_acc: 1.0000\n",
            "Epoch 96/100\n",
            "20/20 [==============================] - 66s 3s/step - loss: 0.0495 - acc: 0.9793 - val_loss: 0.0044 - val_acc: 1.0000\n",
            "Epoch 97/100\n",
            "20/20 [==============================] - 66s 3s/step - loss: 0.0608 - acc: 0.9745 - val_loss: 0.0059 - val_acc: 0.9976\n",
            "Epoch 98/100\n",
            "20/20 [==============================] - 66s 3s/step - loss: 0.0448 - acc: 0.9841 - val_loss: 0.0059 - val_acc: 0.9976\n",
            "Epoch 99/100\n",
            "20/20 [==============================] - 66s 3s/step - loss: 0.0358 - acc: 0.9841 - val_loss: 0.0027 - val_acc: 1.0000\n",
            "Epoch 100/100\n",
            "20/20 [==============================] - 66s 3s/step - loss: 0.0438 - acc: 0.9793 - val_loss: 0.0054 - val_acc: 0.9976\n"
          ]
        }
      ]
    },
    {
      "cell_type": "code",
      "metadata": {
        "id": "KIyvphms96gA"
      },
      "source": [
        "model.save('MammalsAugmentasiMaxPool.h5')"
      ],
      "execution_count": null,
      "outputs": []
    },
    {
      "cell_type": "code",
      "metadata": {
        "colab": {
          "base_uri": "https://localhost:8080/",
          "height": 299
        },
        "id": "o5yGNNgmIXKw",
        "outputId": "eff1bd10-8f99-4cc0-bcce-1a1379dd96be"
      },
      "source": [
        "plt.style.use(\"ggplot\")\n",
        "plt.figure()\n",
        "plt.plot(np.arange(0, 100), H.history[\"loss\"], label=\"train_loss\")\n",
        "plt.plot(np.arange(0, 100), H.history[\"val_loss\"], label=\"val_loss\")\n",
        "plt.title(\"Loss Plot\")\n",
        "plt.xlabel(\"Epoch #\")\n",
        "plt.ylabel(\"Loss\")\n",
        "plt.legend()\n",
        "plt.show()"
      ],
      "execution_count": null,
      "outputs": [
        {
          "output_type": "display_data",
          "data": {
            "image/png": "[encoded data removed]",
            "text/plain": [
              "<Figure size 432x288 with 1 Axes>"
            ]
          },
          "metadata": {}
        }
      ]
    },
    {
      "cell_type": "code",
      "metadata": {
        "colab": {
          "base_uri": "https://localhost:8080/",
          "height": 299
        },
        "id": "E2ULLotmIg7Z",
        "outputId": "ca382cf1-2444-40a6-e1f7-81b546fa1ed2"
      },
      "source": [
        "plt.figure()\n",
        "plt.plot(np.arange(0, 100), H.history[\"acc\"], label=\"train_acc\")\n",
        "plt.plot(np.arange(0, 100), H.history[\"val_acc\"], label=\"val_acc\")\n",
        "plt.title(\"Accuracy Plot\")\n",
        "plt.xlabel(\"Epoch #\")\n",
        "plt.ylabel(\"Acc\")\n",
        "plt.legend()\n",
        "plt.show()"
      ],
      "execution_count": null,
      "outputs": [
        {
          "output_type": "display_data",
          "data": {
            "image/png": "[encoded data removed]",
            "text/plain": [
              "<Figure size 432x288 with 1 Axes>"
            ]
          },
          "metadata": {}
        }
      ]
    },
    {
      "cell_type": "code",
      "metadata": {
        "colab": {
          "base_uri": "https://localhost:8080/",
          "height": 840
        },
        "id": "a3BExPYhPbSU",
        "outputId": "ebea70ff-a90d-4263-81c2-b768d5fa84a0"
      },
      "source": [
        "import seaborn as sns\n",
        "target_name = ['bear', 'cat', 'dog', 'elephant', 'goat', 'horse', 'lion', 'tiger', 'wolf']\n",
        "acc = model.evaluate(test_generator, verbose=0)\n",
        "print(\"Accuracy: {:.2f}%\".format(acc[1] * 100))\n",
        "\n",
        "predictions = np.argmax(model.predict(test_generator), axis=1)\n",
        "\n",
        "cm = confusion_matrix(test_generator.labels, predictions, labels=[0, 1, 2,3,4,5,6,7,8])\n",
        "clr = classification_report(test_generator.labels, predictions, labels=[0, 1, 2,3,4,5,6,7,8], target_names=target_name)\n",
        "\n",
        "plt.figure(figsize=(8, 8))\n",
        "sns.heatmap(cm, annot=True, fmt='g', vmin=0, cmap='Blues', cbar=False)\n",
        "plt.xticks(ticks=[0.5, 1.5, 2.5, 3.5, 4.5, 5.5, 6.5, 7.5, 8.5], labels=target_name)\n",
        "plt.yticks(ticks=[0.5, 1.5, 2.5, 3.5, 4.5, 5.5, 6.5, 7.5, 8.5], labels=target_name)\n",
        "plt.xlabel(\"Predicted\")\n",
        "plt.ylabel(\"Actual\")\n",
        "plt.title(\"Confusion Matrix\")\n",
        "plt.show()\n",
        "\n",
        "print(\"Classification Report:\\n----------------------\\n\", clr)"
      ],
      "execution_count": null,
      "outputs": [
        {
          "output_type": "stream",
          "name": "stdout",
          "text": [
            "Accuracy: 98.88%\n"
          ]
        },
        {
          "output_type": "display_data",
          "data": {
            "image/png": "[encoded data removed]",
            "text/plain": [
              "<Figure size 576x576 with 1 Axes>"
            ]
          },
          "metadata": {}
        },
        {
          "output_type": "stream",
          "name": "stdout",
          "text": [
            "Classification Report:\n",
            "----------------------\n",
            "               precision    recall  f1-score   support\n",
            "\n",
            "        bear       1.00      0.95      0.97        19\n",
            "         cat       1.00      1.00      1.00        15\n",
            "         dog       0.95      1.00      0.98        20\n",
            "    elephant       1.00      0.96      0.98        28\n",
            "        goat       1.00      1.00      1.00        15\n",
            "       horse       1.00      1.00      1.00        28\n",
            "        lion       0.94      1.00      0.97        16\n",
            "       tiger       1.00      1.00      1.00        17\n",
            "        wolf       1.00      1.00      1.00        20\n",
            "\n",
            "    accuracy                           0.99       178\n",
            "   macro avg       0.99      0.99      0.99       178\n",
            "weighted avg       0.99      0.99      0.99       178\n",
            "\n"
          ]
        }
      ]
    },
    {
      "cell_type": "code",
      "metadata": {
        "colab": {
          "base_uri": "https://localhost:8080/"
        },
        "id": "YCXfUpiCz6ib",
        "outputId": "60fec247-afef-4c7f-b254-5898990a71d5"
      },
      "source": [
        "# Scenario Modelling 2\n",
        "# Feature Extraction Layer\n",
        "Model = Sequential()\n",
        "\n",
        "Model.add(InputLayer(input_shape=[250,250,3]))\n",
        "Model.add(Conv2D(filters=16, kernel_size=3, strides=1, padding='same', activation='relu'))\n",
        "Model.add(BatchNormalization())\n",
        "Model.add(AveragePooling2D(pool_size=2, padding='same'))\n",
        "Model.add(Conv2D(filters=32, kernel_size=3, strides=1, padding='same', activation='relu'))\n",
        "Model.add(BatchNormalization())\n",
        "Model.add(AveragePooling2D(pool_size=2, padding='same'))\n",
        "Model.add(Conv2D(filters=64, kernel_size=3, strides=1, padding='same', activation='relu'))\n",
        "Model.add(BatchNormalization())\n",
        "Model.add(AveragePooling2D(pool_size=2, padding='same'))\n",
        "Model.add(Conv2D(filters=128, kernel_size=3, strides=1, padding='same', activation='relu'))\n",
        "Model.add(BatchNormalization())\n",
        "Model.add(AveragePooling2D(pool_size=2, padding='same'))\n",
        "Model.add(Dropout(0.25))\n",
        "Model.add(Flatten())\n",
        "\n",
        "# Fully Connected Layer\n",
        "Model.add(Dense(512, activation='relu'))\n",
        "Model.add(Dropout(0.25))\n",
        "Model.add(Dense(9, activation='softmax'))\n",
        "\n",
        "# Print model summary\n",
        "print(Model.summary())"
      ],
      "execution_count": null,
      "outputs": [
        {
          "output_type": "stream",
          "name": "stdout",
          "text": [
            "Model: \"sequential_2\"\n",
            "_________________________________________________________________\n",
            "Layer (type)                 Output Shape              Param #   \n",
            "=================================================================\n",
            "conv2d_8 (Conv2D)            (None, 250, 250, 16)      448       \n",
            "_________________________________________________________________\n",
            "batch_normalization_8 (Batch (None, 250, 250, 16)      64        \n",
            "_________________________________________________________________\n",
            "average_pooling2d (AveragePo (None, 125, 125, 16)      0         \n",
            "_________________________________________________________________\n",
            "conv2d_9 (Conv2D)            (None, 125, 125, 32)      4640      \n",
            "_________________________________________________________________\n",
            "batch_normalization_9 (Batch (None, 125, 125, 32)      128       \n",
            "_________________________________________________________________\n",
            "average_pooling2d_1 (Average (None, 63, 63, 32)        0         \n",
            "_________________________________________________________________\n",
            "conv2d_10 (Conv2D)           (None, 63, 63, 64)        18496     \n",
            "_________________________________________________________________\n",
            "batch_normalization_10 (Batc (None, 63, 63, 64)        256       \n",
            "_________________________________________________________________\n",
            "average_pooling2d_2 (Average (None, 32, 32, 64)        0         \n",
            "_________________________________________________________________\n",
            "conv2d_11 (Conv2D)           (None, 32, 32, 128)       73856     \n",
            "_________________________________________________________________\n",
            "batch_normalization_11 (Batc (None, 32, 32, 128)       512       \n",
            "_________________________________________________________________\n",
            "average_pooling2d_3 (Average (None, 16, 16, 128)       0         \n",
            "_________________________________________________________________\n",
            "dropout_4 (Dropout)          (None, 16, 16, 128)       0         \n",
            "_________________________________________________________________\n",
            "flatten_2 (Flatten)          (None, 32768)             0         \n",
            "_________________________________________________________________\n",
            "dense_4 (Dense)              (None, 512)               16777728  \n",
            "_________________________________________________________________\n",
            "dropout_5 (Dropout)          (None, 512)               0         \n",
            "_________________________________________________________________\n",
            "dense_5 (Dense)              (None, 9)                 4617      \n",
            "=================================================================\n",
            "Total params: 16,880,745\n",
            "Trainable params: 16,880,265\n",
            "Non-trainable params: 480\n",
            "_________________________________________________________________\n",
            "None\n"
          ]
        }
      ]
    },
    {
      "cell_type": "code",
      "metadata": {
        "id": "yiTXetw9_-HE"
      },
      "source": [
        "Model.compile(optimizer=Adam(learning_rate=0.001), \n",
        "              loss='categorical_crossentropy', \n",
        "              metrics=['acc'])"
      ],
      "execution_count": null,
      "outputs": []
    },
    {
      "cell_type": "code",
      "metadata": {
        "colab": {
          "base_uri": "https://localhost:8080/"
        },
        "id": "h-aXxo6uG_Fm",
        "outputId": "1d5267f7-1a41-4d51-d851-0e2e3c2c9d3b"
      },
      "source": [
        "h = Model.fit_generator(\n",
        "    train_generator, \n",
        "    epochs=100, \n",
        "    validation_data= validation_generator,\n",
        "    callbacks=[earlystopping, reduce_lr]\n",
        "    )"
      ],
      "execution_count": null,
      "outputs": [
        {
          "metadata": {
            "tags": null
          },
          "name": "stderr",
          "output_type": "stream",
          "text": [
            "/usr/local/lib/python3.7/dist-packages/keras/engine/training.py:1972: UserWarning: `Model.fit_generator` is deprecated and will be removed in a future version. Please use `Model.fit`, which supports generators.\n",
            "  warnings.warn('`Model.fit_generator` is deprecated and '\n"
          ]
        },
        {
          "output_type": "stream",
          "name": "stdout",
          "text": [
            "Epoch 1/100\n",
            "20/20 [==============================] - 66s 3s/step - loss: 1.0603 - acc: 0.6396 - val_loss: 7.2420 - val_acc: 0.1755\n",
            "Epoch 2/100\n",
            "20/20 [==============================] - 66s 3s/step - loss: 1.0690 - acc: 0.6491 - val_loss: 8.6763 - val_acc: 0.1683\n",
            "Epoch 3/100\n",
            "20/20 [==============================] - 66s 3s/step - loss: 0.8033 - acc: 0.7432 - val_loss: 11.2637 - val_acc: 0.1707\n",
            "Epoch 4/100\n",
            "20/20 [==============================] - 66s 3s/step - loss: 0.7836 - acc: 0.7448 - val_loss: 7.2116 - val_acc: 0.2212\n",
            "Epoch 5/100\n",
            "20/20 [==============================] - 66s 3s/step - loss: 0.7748 - acc: 0.7703 - val_loss: 8.6288 - val_acc: 0.2476\n",
            "Epoch 6/100\n",
            "20/20 [==============================] - 66s 3s/step - loss: 0.7073 - acc: 0.7751 - val_loss: 12.0703 - val_acc: 0.1875\n",
            "Epoch 7/100\n",
            "20/20 [==============================] - 66s 3s/step - loss: 0.5980 - acc: 0.8086 - val_loss: 4.0006 - val_acc: 0.3101\n",
            "Epoch 8/100\n",
            "20/20 [==============================] - 66s 3s/step - loss: 0.5523 - acc: 0.8278 - val_loss: 3.4628 - val_acc: 0.4255\n",
            "Epoch 9/100\n",
            "20/20 [==============================] - 66s 3s/step - loss: 0.4215 - acc: 0.8469 - val_loss: 5.8986 - val_acc: 0.3365\n",
            "Epoch 10/100\n",
            "20/20 [==============================] - 66s 3s/step - loss: 0.5088 - acc: 0.8533 - val_loss: 2.9265 - val_acc: 0.5024\n",
            "Epoch 11/100\n",
            "20/20 [==============================] - 66s 3s/step - loss: 0.5065 - acc: 0.8501 - val_loss: 2.1053 - val_acc: 0.5457\n",
            "Epoch 12/100\n",
            "20/20 [==============================] - 67s 3s/step - loss: 0.4603 - acc: 0.8549 - val_loss: 2.2778 - val_acc: 0.5481\n",
            "Epoch 13/100\n",
            "20/20 [==============================] - 67s 3s/step - loss: 0.5438 - acc: 0.8405 - val_loss: 3.5524 - val_acc: 0.4423\n",
            "Epoch 14/100\n",
            "20/20 [==============================] - 66s 3s/step - loss: 0.4168 - acc: 0.8692 - val_loss: 1.7334 - val_acc: 0.6466\n",
            "Epoch 15/100\n",
            "20/20 [==============================] - 66s 3s/step - loss: 0.3732 - acc: 0.8724 - val_loss: 1.7724 - val_acc: 0.6659\n",
            "Epoch 16/100\n",
            "20/20 [==============================] - 66s 3s/step - loss: 0.3916 - acc: 0.8804 - val_loss: 0.8060 - val_acc: 0.7764\n",
            "Epoch 17/100\n",
            "20/20 [==============================] - 67s 3s/step - loss: 0.3409 - acc: 0.8788 - val_loss: 0.9454 - val_acc: 0.7644\n",
            "Epoch 18/100\n",
            "20/20 [==============================] - 67s 3s/step - loss: 0.2872 - acc: 0.9027 - val_loss: 0.3838 - val_acc: 0.8870\n",
            "Epoch 19/100\n",
            "20/20 [==============================] - 66s 3s/step - loss: 0.2830 - acc: 0.8947 - val_loss: 0.8407 - val_acc: 0.8077\n",
            "Epoch 20/100\n",
            "20/20 [==============================] - 67s 3s/step - loss: 0.3046 - acc: 0.8995 - val_loss: 0.4650 - val_acc: 0.8654\n",
            "Epoch 21/100\n",
            "20/20 [==============================] - 66s 3s/step - loss: 0.3261 - acc: 0.9027 - val_loss: 0.5225 - val_acc: 0.8630\n",
            "Epoch 22/100\n",
            "20/20 [==============================] - 66s 3s/step - loss: 0.2840 - acc: 0.9059 - val_loss: 0.4513 - val_acc: 0.9014\n",
            "Epoch 23/100\n",
            "20/20 [==============================] - 67s 3s/step - loss: 0.3166 - acc: 0.9107 - val_loss: 0.7892 - val_acc: 0.8582\n",
            "Epoch 24/100\n",
            "20/20 [==============================] - 66s 3s/step - loss: 0.2729 - acc: 0.9171 - val_loss: 0.7359 - val_acc: 0.8221\n",
            "Epoch 25/100\n",
            "20/20 [==============================] - 66s 3s/step - loss: 0.2959 - acc: 0.9139 - val_loss: 0.4072 - val_acc: 0.8966\n",
            "Epoch 26/100\n",
            "20/20 [==============================] - 66s 3s/step - loss: 0.2660 - acc: 0.9250 - val_loss: 1.0649 - val_acc: 0.7981\n",
            "Epoch 27/100\n",
            "20/20 [==============================] - 66s 3s/step - loss: 0.2177 - acc: 0.9362 - val_loss: 0.0728 - val_acc: 0.9784\n",
            "Epoch 28/100\n",
            "20/20 [==============================] - 66s 3s/step - loss: 0.2183 - acc: 0.9378 - val_loss: 0.2522 - val_acc: 0.9279\n",
            "Epoch 29/100\n",
            "20/20 [==============================] - 67s 3s/step - loss: 0.2622 - acc: 0.9043 - val_loss: 0.1778 - val_acc: 0.9471\n",
            "Epoch 30/100\n",
            "20/20 [==============================] - 67s 3s/step - loss: 0.3110 - acc: 0.9091 - val_loss: 0.5835 - val_acc: 0.8918\n",
            "Epoch 31/100\n",
            "20/20 [==============================] - 66s 3s/step - loss: 0.2645 - acc: 0.9250 - val_loss: 1.4100 - val_acc: 0.7476\n",
            "Epoch 32/100\n",
            "20/20 [==============================] - 66s 3s/step - loss: 0.3173 - acc: 0.9059 - val_loss: 0.2915 - val_acc: 0.9207\n",
            "Epoch 33/100\n",
            "20/20 [==============================] - 66s 3s/step - loss: 0.2704 - acc: 0.9362 - val_loss: 0.1081 - val_acc: 0.9591\n",
            "Epoch 34/100\n",
            "20/20 [==============================] - 65s 3s/step - loss: 0.3358 - acc: 0.9027 - val_loss: 0.4114 - val_acc: 0.8750\n",
            "Epoch 35/100\n",
            "20/20 [==============================] - 65s 3s/step - loss: 0.3718 - acc: 0.9059 - val_loss: 0.1381 - val_acc: 0.9615\n",
            "Epoch 36/100\n",
            "20/20 [==============================] - 65s 3s/step - loss: 0.2306 - acc: 0.9298 - val_loss: 0.1924 - val_acc: 0.9543\n",
            "Epoch 37/100\n",
            "20/20 [==============================] - 67s 3s/step - loss: 0.2734 - acc: 0.9139 - val_loss: 0.1970 - val_acc: 0.9519\n",
            "\n",
            "Epoch 00037: ReduceLROnPlateau reducing learning rate to 0.00020000000949949026.\n",
            "Epoch 38/100\n",
            "20/20 [==============================] - 66s 3s/step - loss: 0.2652 - acc: 0.9187 - val_loss: 0.0818 - val_acc: 0.9784\n",
            "Epoch 39/100\n",
            "20/20 [==============================] - 65s 3s/step - loss: 0.1848 - acc: 0.9426 - val_loss: 0.0224 - val_acc: 0.9928\n",
            "Epoch 40/100\n",
            "20/20 [==============================] - 65s 3s/step - loss: 0.1326 - acc: 0.9569 - val_loss: 0.0351 - val_acc: 0.9904\n",
            "Epoch 41/100\n",
            "20/20 [==============================] - 67s 3s/step - loss: 0.1267 - acc: 0.9633 - val_loss: 0.0196 - val_acc: 0.9976\n",
            "Epoch 42/100\n",
            "20/20 [==============================] - 66s 3s/step - loss: 0.0861 - acc: 0.9729 - val_loss: 0.0130 - val_acc: 1.0000\n",
            "Epoch 43/100\n",
            "20/20 [==============================] - 65s 3s/step - loss: 0.0857 - acc: 0.9729 - val_loss: 0.0162 - val_acc: 0.9952\n",
            "Epoch 44/100\n",
            "20/20 [==============================] - 66s 3s/step - loss: 0.0637 - acc: 0.9809 - val_loss: 0.0113 - val_acc: 0.9952\n",
            "Epoch 45/100\n",
            "20/20 [==============================] - 66s 3s/step - loss: 0.0436 - acc: 0.9888 - val_loss: 0.0089 - val_acc: 1.0000\n",
            "Epoch 46/100\n",
            "20/20 [==============================] - 67s 3s/step - loss: 0.0579 - acc: 0.9841 - val_loss: 0.0081 - val_acc: 1.0000\n",
            "Epoch 47/100\n",
            "20/20 [==============================] - 67s 3s/step - loss: 0.0506 - acc: 0.9825 - val_loss: 0.0134 - val_acc: 0.9952\n",
            "Epoch 48/100\n",
            "20/20 [==============================] - 67s 3s/step - loss: 0.0503 - acc: 0.9856 - val_loss: 0.0068 - val_acc: 1.0000\n",
            "Epoch 49/100\n",
            "20/20 [==============================] - 67s 3s/step - loss: 0.0651 - acc: 0.9793 - val_loss: 0.0079 - val_acc: 0.9976\n",
            "Epoch 50/100\n",
            "20/20 [==============================] - 67s 3s/step - loss: 0.0499 - acc: 0.9856 - val_loss: 0.0090 - val_acc: 0.9952\n",
            "Epoch 51/100\n",
            "20/20 [==============================] - 67s 3s/step - loss: 0.0545 - acc: 0.9841 - val_loss: 0.0041 - val_acc: 1.0000\n",
            "Epoch 52/100\n",
            "20/20 [==============================] - 67s 3s/step - loss: 0.0668 - acc: 0.9745 - val_loss: 0.0155 - val_acc: 0.9928\n",
            "Epoch 53/100\n",
            "20/20 [==============================] - 67s 3s/step - loss: 0.0570 - acc: 0.9825 - val_loss: 0.0052 - val_acc: 1.0000\n",
            "Epoch 54/100\n",
            "20/20 [==============================] - 68s 3s/step - loss: 0.0264 - acc: 0.9952 - val_loss: 0.0110 - val_acc: 0.9952\n",
            "Epoch 55/100\n",
            "20/20 [==============================] - 67s 3s/step - loss: 0.0397 - acc: 0.9809 - val_loss: 0.0065 - val_acc: 0.9976\n",
            "Epoch 56/100\n",
            "20/20 [==============================] - 67s 3s/step - loss: 0.0358 - acc: 0.9904 - val_loss: 0.0084 - val_acc: 0.9976\n",
            "Epoch 57/100\n",
            "20/20 [==============================] - 67s 3s/step - loss: 0.0359 - acc: 0.9920 - val_loss: 0.0054 - val_acc: 1.0000\n",
            "Epoch 58/100\n",
            "20/20 [==============================] - 67s 3s/step - loss: 0.0294 - acc: 0.9936 - val_loss: 0.0033 - val_acc: 1.0000\n",
            "Epoch 59/100\n",
            "20/20 [==============================] - 67s 3s/step - loss: 0.0330 - acc: 0.9888 - val_loss: 0.0056 - val_acc: 0.9952\n",
            "Epoch 60/100\n",
            "20/20 [==============================] - 67s 3s/step - loss: 0.0298 - acc: 0.9904 - val_loss: 0.0040 - val_acc: 1.0000\n",
            "Epoch 61/100\n",
            "20/20 [==============================] - 67s 3s/step - loss: 0.0339 - acc: 0.9872 - val_loss: 0.0044 - val_acc: 1.0000\n",
            "Epoch 62/100\n",
            "20/20 [==============================] - 67s 3s/step - loss: 0.0375 - acc: 0.9841 - val_loss: 0.0075 - val_acc: 0.9976\n",
            "Epoch 63/100\n",
            "20/20 [==============================] - 67s 3s/step - loss: 0.0315 - acc: 0.9904 - val_loss: 0.0042 - val_acc: 1.0000\n",
            "Epoch 64/100\n",
            "20/20 [==============================] - 67s 3s/step - loss: 0.0413 - acc: 0.9872 - val_loss: 0.0056 - val_acc: 0.9976\n",
            "Epoch 65/100\n",
            "20/20 [==============================] - 66s 3s/step - loss: 0.0177 - acc: 0.9936 - val_loss: 0.0101 - val_acc: 0.9952\n",
            "Epoch 66/100\n",
            "20/20 [==============================] - 66s 3s/step - loss: 0.0399 - acc: 0.9856 - val_loss: 0.0051 - val_acc: 0.9976\n",
            "Epoch 67/100\n",
            "20/20 [==============================] - 66s 3s/step - loss: 0.0329 - acc: 0.9904 - val_loss: 0.0086 - val_acc: 0.9976\n",
            "Epoch 68/100\n",
            "20/20 [==============================] - 65s 3s/step - loss: 0.0428 - acc: 0.9872 - val_loss: 0.0066 - val_acc: 0.9976\n",
            "\n",
            "Epoch 00068: ReduceLROnPlateau reducing learning rate to 4.0000001899898055e-05.\n",
            "Epoch 69/100\n",
            "20/20 [==============================] - 65s 3s/step - loss: 0.0510 - acc: 0.9841 - val_loss: 0.0029 - val_acc: 0.9976\n",
            "Epoch 70/100\n",
            "20/20 [==============================] - 65s 3s/step - loss: 0.0306 - acc: 0.9872 - val_loss: 0.0056 - val_acc: 0.9976\n",
            "Epoch 71/100\n",
            "20/20 [==============================] - 65s 3s/step - loss: 0.0390 - acc: 0.9888 - val_loss: 0.0026 - val_acc: 1.0000\n",
            "Epoch 72/100\n",
            "20/20 [==============================] - 65s 3s/step - loss: 0.0370 - acc: 0.9872 - val_loss: 0.0038 - val_acc: 1.0000\n",
            "Epoch 73/100\n",
            "20/20 [==============================] - 65s 3s/step - loss: 0.0330 - acc: 0.9920 - val_loss: 0.0090 - val_acc: 0.9952\n",
            "Epoch 74/100\n",
            "20/20 [==============================] - 65s 3s/step - loss: 0.0217 - acc: 0.9936 - val_loss: 0.0046 - val_acc: 0.9976\n",
            "Epoch 75/100\n",
            "20/20 [==============================] - 65s 3s/step - loss: 0.0377 - acc: 0.9856 - val_loss: 0.0078 - val_acc: 0.9952\n",
            "Epoch 76/100\n",
            "20/20 [==============================] - 64s 3s/step - loss: 0.0366 - acc: 0.9888 - val_loss: 0.0060 - val_acc: 0.9976\n",
            "Epoch 77/100\n",
            "20/20 [==============================] - 64s 3s/step - loss: 0.0174 - acc: 0.9936 - val_loss: 0.0022 - val_acc: 1.0000\n",
            "Epoch 78/100\n",
            "20/20 [==============================] - 65s 3s/step - loss: 0.0270 - acc: 0.9904 - val_loss: 0.0037 - val_acc: 0.9976\n",
            "Epoch 79/100\n",
            "20/20 [==============================] - 67s 3s/step - loss: 0.0176 - acc: 0.9920 - val_loss: 0.0032 - val_acc: 1.0000\n",
            "Epoch 80/100\n",
            "20/20 [==============================] - 67s 3s/step - loss: 0.0183 - acc: 0.9936 - val_loss: 0.0041 - val_acc: 0.9976\n",
            "Epoch 81/100\n",
            "20/20 [==============================] - 67s 3s/step - loss: 0.0173 - acc: 0.9952 - val_loss: 0.0078 - val_acc: 0.9976\n",
            "Epoch 82/100\n",
            "20/20 [==============================] - 66s 3s/step - loss: 0.0227 - acc: 0.9952 - val_loss: 0.0019 - val_acc: 1.0000\n",
            "Epoch 83/100\n",
            "20/20 [==============================] - 67s 3s/step - loss: 0.0373 - acc: 0.9888 - val_loss: 0.0031 - val_acc: 1.0000\n",
            "Epoch 84/100\n",
            "20/20 [==============================] - 67s 3s/step - loss: 0.0230 - acc: 0.9904 - val_loss: 0.0063 - val_acc: 0.9952\n",
            "Epoch 85/100\n",
            "20/20 [==============================] - 67s 3s/step - loss: 0.0139 - acc: 0.9968 - val_loss: 0.0067 - val_acc: 0.9952\n",
            "Epoch 86/100\n",
            "20/20 [==============================] - 67s 3s/step - loss: 0.0204 - acc: 0.9920 - val_loss: 0.0026 - val_acc: 1.0000\n",
            "Epoch 87/100\n",
            "20/20 [==============================] - 67s 3s/step - loss: 0.0218 - acc: 0.9920 - val_loss: 0.0044 - val_acc: 0.9976\n",
            "Epoch 88/100\n",
            "20/20 [==============================] - 67s 3s/step - loss: 0.0225 - acc: 0.9920 - val_loss: 0.0027 - val_acc: 0.9976\n",
            "Epoch 89/100\n",
            "20/20 [==============================] - 67s 3s/step - loss: 0.0186 - acc: 0.9968 - val_loss: 0.0078 - val_acc: 0.9976\n",
            "Epoch 90/100\n",
            "20/20 [==============================] - 67s 3s/step - loss: 0.0166 - acc: 0.9952 - val_loss: 0.0051 - val_acc: 0.9952\n",
            "Epoch 91/100\n",
            "20/20 [==============================] - 67s 3s/step - loss: 0.0203 - acc: 0.9936 - val_loss: 0.0063 - val_acc: 0.9952\n",
            "Epoch 92/100\n",
            "20/20 [==============================] - 67s 3s/step - loss: 0.0319 - acc: 0.9904 - val_loss: 0.0018 - val_acc: 1.0000\n",
            "Epoch 93/100\n",
            "20/20 [==============================] - 67s 3s/step - loss: 0.0237 - acc: 0.9920 - val_loss: 0.0040 - val_acc: 0.9976\n",
            "Epoch 94/100\n",
            "20/20 [==============================] - 67s 3s/step - loss: 0.0194 - acc: 0.9920 - val_loss: 0.0035 - val_acc: 1.0000\n",
            "Epoch 95/100\n",
            "20/20 [==============================] - 67s 3s/step - loss: 0.0199 - acc: 0.9936 - val_loss: 0.0108 - val_acc: 0.9952\n",
            "Epoch 96/100\n",
            "20/20 [==============================] - 66s 3s/step - loss: 0.0159 - acc: 0.9952 - val_loss: 0.0107 - val_acc: 0.9976\n",
            "Epoch 97/100\n",
            "20/20 [==============================] - 67s 3s/step - loss: 0.0281 - acc: 0.9904 - val_loss: 0.0092 - val_acc: 0.9952\n",
            "Epoch 98/100\n",
            "20/20 [==============================] - 67s 3s/step - loss: 0.0207 - acc: 0.9936 - val_loss: 0.0032 - val_acc: 1.0000\n",
            "Epoch 99/100\n",
            "20/20 [==============================] - 67s 3s/step - loss: 0.0327 - acc: 0.9920 - val_loss: 0.0060 - val_acc: 0.9952\n",
            "Epoch 100/100\n",
            "20/20 [==============================] - 67s 3s/step - loss: 0.0296 - acc: 0.9872 - val_loss: 0.0035 - val_acc: 1.0000\n"
          ]
        }
      ]
    },
    {
      "cell_type": "code",
      "metadata": {
        "id": "iUbtjSkvLmYD"
      },
      "source": [
        "Model.save('MammalsAugmentasiAveragePool.h5')"
      ],
      "execution_count": null,
      "outputs": []
    },
    {
      "cell_type": "code",
      "metadata": {
        "colab": {
          "base_uri": "https://localhost:8080/",
          "height": 299
        },
        "id": "YVAm64-pRvBm",
        "outputId": "079bbbab-25a7-4f0d-a990-c877f2548acb"
      },
      "source": [
        "plt.style.use(\"ggplot\")\n",
        "plt.figure()\n",
        "plt.plot(np.arange(0, 100), h.history[\"loss\"], label=\"train_loss\")\n",
        "plt.plot(np.arange(0, 100), h.history[\"val_loss\"], label=\"val_loss\")\n",
        "plt.title(\"Loss Plot\")\n",
        "plt.xlabel(\"Epoch #\")\n",
        "plt.ylabel(\"Loss\")\n",
        "plt.legend()\n",
        "plt.show()"
      ],
      "execution_count": null,
      "outputs": [
        {
          "output_type": "display_data",
          "data": {
            "image/png": "[encoded data removed]",
            "text/plain": [
              "<Figure size 432x288 with 1 Axes>"
            ]
          },
          "metadata": {}
        }
      ]
    },
    {
      "cell_type": "code",
      "metadata": {
        "colab": {
          "base_uri": "https://localhost:8080/",
          "height": 299
        },
        "id": "KJNATpWOR0PK",
        "outputId": "10f753cd-6a5c-4ea1-ec04-c8ddaab5c3ab"
      },
      "source": [
        "plt.figure()\n",
        "plt.plot(np.arange(0, 100), h.history[\"acc\"], label=\"train_acc\")\n",
        "plt.plot(np.arange(0, 100), h.history[\"val_acc\"], label=\"val_acc\")\n",
        "plt.title(\"Accuracy Plot\")\n",
        "plt.xlabel(\"Epoch #\")\n",
        "plt.ylabel(\"Acc\")\n",
        "plt.legend()\n",
        "plt.show()"
      ],
      "execution_count": null,
      "outputs": [
        {
          "output_type": "display_data",
          "data": {
            "image/png": "[encoded data removed]",
            "text/plain": [
              "<Figure size 432x288 with 1 Axes>"
            ]
          },
          "metadata": {}
        }
      ]
    },
    {
      "cell_type": "code",
      "metadata": {
        "colab": {
          "base_uri": "https://localhost:8080/",
          "height": 840
        },
        "id": "Dnzi9sceR4ww",
        "outputId": "8589c8cd-412b-49bf-b15c-9bfdf65438b1"
      },
      "source": [
        "import seaborn as sns\n",
        "target_name = ['bear', 'cat', 'dog', 'elephant', 'goat', 'horse', 'lion', 'tiger', 'wolf']\n",
        "acc = Model.evaluate(test_generator, verbose=0)\n",
        "print(\"Accuracy: {:.2f}%\".format(acc[1] * 100))\n",
        "\n",
        "predictions = np.argmax(Model.predict(test_generator), axis=1)\n",
        "\n",
        "cm = confusion_matrix(test_generator.labels, predictions, labels=[0, 1, 2,3,4,5,6,7,8])\n",
        "clr = classification_report(test_generator.labels, predictions, labels=[0, 1, 2,3,4,5,6,7,8], target_names=target_name)\n",
        "\n",
        "plt.figure(figsize=(8, 8))\n",
        "sns.heatmap(cm, annot=True, fmt='g', vmin=0, cmap='Blues', cbar=False)\n",
        "plt.xticks(ticks=[0.5, 1.5, 2.5, 3.5, 4.5, 5.5, 6.5, 7.5, 8.5], labels=target_name)\n",
        "plt.yticks(ticks=[0.5, 1.5, 2.5, 3.5, 4.5, 5.5, 6.5, 7.5, 8.5], labels=target_name)\n",
        "plt.xlabel(\"Predicted\")\n",
        "plt.ylabel(\"Actual\")\n",
        "plt.title(\"Confusion Matrix\")\n",
        "plt.show()\n",
        "\n",
        "print(\"Classification Report:\\n----------------------\\n\", clr)"
      ],
      "execution_count": null,
      "outputs": [
        {
          "output_type": "stream",
          "name": "stdout",
          "text": [
            "Accuracy: 99.44%\n"
          ]
        },
        {
          "output_type": "display_data",
          "data": {
            "image/png": "[encoded data removed]",
            "text/plain": [
              "<Figure size 576x576 with 1 Axes>"
            ]
          },
          "metadata": {}
        },
        {
          "output_type": "stream",
          "name": "stdout",
          "text": [
            "Classification Report:\n",
            "----------------------\n",
            "               precision    recall  f1-score   support\n",
            "\n",
            "        bear       1.00      0.95      0.97        19\n",
            "         cat       1.00      1.00      1.00        15\n",
            "         dog       0.95      1.00      0.98        20\n",
            "    elephant       1.00      1.00      1.00        28\n",
            "        goat       1.00      1.00      1.00        15\n",
            "       horse       1.00      1.00      1.00        28\n",
            "        lion       1.00      1.00      1.00        16\n",
            "       tiger       1.00      1.00      1.00        17\n",
            "        wolf       1.00      1.00      1.00        20\n",
            "\n",
            "    accuracy                           0.99       178\n",
            "   macro avg       0.99      0.99      0.99       178\n",
            "weighted avg       0.99      0.99      0.99       178\n",
            "\n"
          ]
        }
      ]
    }
  ]
}